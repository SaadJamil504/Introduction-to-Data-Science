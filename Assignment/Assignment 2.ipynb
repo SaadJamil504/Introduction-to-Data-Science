{
 "cells": [
  {
   "cell_type": "code",
   "execution_count": null,
   "id": "1c76a5be-7799-417d-867a-f584a88f0795",
   "metadata": {},
   "outputs": [],
   "source": [
    "#User data processing with Lists"
   ]
  },
  {
   "cell_type": "code",
   "execution_count": 1,
   "id": "949d20f4-618a-4dcb-b707-507b51bfd071",
   "metadata": {},
   "outputs": [
    {
     "name": "stdout",
     "output_type": "stream",
     "text": [
      "['Sara', 'Isabella', 'Muhammad', 'Ibrahim']\n"
     ]
    }
   ],
   "source": [
    "#function to filter user older than 30 from USA and Canada\n",
    "\n",
    "def filter(data):\n",
    "    array=[]\n",
    "    for i in data:\n",
    "        if (i[3] == \"USA\" or i[3]==\"Canada\") and i[2]>30:\n",
    "            array.append(i[1])\n",
    "    return array\n",
    "\n",
    "data=[(92, 'Sara',33 , 'USA'),\n",
    "    (93, 'Zain', 10, 'Canada'),\n",
    "    (94, 'Samuel', 59, 'South Africa'),\n",
    "    (95, 'Charlotte', 7, 'Canada'),\n",
    "    (96, 'Isabella', 42, 'Canada'),\n",
    "    (97, 'Muhammad', 43, 'USA'),\n",
    "    (98, 'Hazel', 56, 'Qatar'),\n",
    "    (99, 'Sara', 58, 'Australia'),\n",
    "    (100, 'Ibrahim', 57, 'Canada')]\n",
    "result=filter(data)\n",
    "print(result)"
   ]
  },
  {
   "cell_type": "code",
   "execution_count": 4,
   "id": "3d339ecc-a63f-4c04-a78a-671a4535b84d",
   "metadata": {},
   "outputs": [
    {
     "name": "stdout",
     "output_type": "stream",
     "text": [
      "[(83, 'Grace', 45, 'Australia'), (88, 'Chloe', 42, 'Australia'), (87, 'Mia', 28, 'France')]\n"
     ]
    }
   ],
   "source": [
    "#Function to filter top 3 oldest users\n",
    "def OldestUsers(data):\n",
    "    newlist=sorted(data, reverse=True, key=lambda x: x[2])\n",
    "    return newlist[0:3]\n",
    "\n",
    "data=[(81, 'Emily', 14, 'South Africa'),\n",
    "    (82, 'Aria', 21, 'Afghanistan'),\n",
    "    (83, 'Grace', 45, 'Australia'),\n",
    "    (84, 'Ali', 16, 'UAE'),\n",
    "    (85, 'Adam', 3, 'Palestine'),\n",
    "    (86, 'Maya', 7, 'Saudi Arabia'),\n",
    "    (87, 'Mia', 28, 'France'),\n",
    "    (88, 'Chloe', 42, 'Australia'),\n",
    "    (89, 'Aria', 13, 'Palestine'),\n",
    "    (90, 'Lucas', 24, 'South Africa')]\n",
    "result=OldestUsers(data)\n",
    "print(result)"
   ]
  },
  {
   "cell_type": "code",
   "execution_count": 5,
   "id": "1f02dc7f-5ea6-4537-b1a1-3bf9e964e616",
   "metadata": {},
   "outputs": [
    {
     "name": "stdout",
     "output_type": "stream",
     "text": [
      "['Adam', 'Saad', 'Ali']\n"
     ]
    }
   ],
   "source": [
    "#Function to check duplicates and return their names\n",
    "def DuplicateNames(data):\n",
    "    duplicate_names=[]\n",
    "    names=set()\n",
    "    for i in data:\n",
    "        if i[1] in names:\n",
    "            if i[1] not in duplicate_names:\n",
    "                duplicate_names.append(i[1])\n",
    "        else:\n",
    "            names.add(i[1])\n",
    "\n",
    "    return duplicate_names\n",
    "data=[(81, 'Emily', 14, 'South Africa'),\n",
    "    (82, 'Adam', 21, 'Afghanistan'),\n",
    "    (83, 'Grace', 45, 'Australia'),\n",
    "    (84, 'Ali', 16, 'UAE'),\n",
    "    (85, 'Adam', 3, 'Palestine'),\n",
    "    (86, 'Maya', 7, 'Saudi Arabia'),\n",
    "    (87, 'Saad', 28, 'France'),\n",
    "    (88, 'Chloe', 42, 'Australia'),\n",
    "    (89, 'Saad', 13, 'Palestine'),\n",
    "    (90, 'Ali', 24, 'South Africa')]\n",
    "result=DuplicateNames(data)\n",
    "print(result)\n"
   ]
  },
  {
   "cell_type": "raw",
   "id": "8c3155a6-918d-49a5-8e6f-09d1cfdae160",
   "metadata": {},
   "source": [
    "Immutable data management using Tuples"
   ]
  },
  {
   "cell_type": "code",
   "execution_count": 7,
   "id": "bb77c09c-24d5-4521-88b8-83b17d6407d6",
   "metadata": {},
   "outputs": [
    {
     "name": "stdout",
     "output_type": "stream",
     "text": [
      "7\n"
     ]
    }
   ],
   "source": [
    "#Function to find unique users\n",
    "def UniqueUses(transrecords):\n",
    "    users=set()\n",
    "    for i in transrecords:\n",
    "        users.add(i[1])\n",
    "\n",
    "    return len(users)\n",
    "\n",
    "transrecords=[(1, 'user_1', 150, '2024-09-01 10:30:25'),\n",
    "    (2, 'user_2', 200, '2024-09-02 11:15:35'),\n",
    "    (3, 'user_1', 300, '2024-09-03 09:45:00'),\n",
    "    (4, 'user_3', 50, '2024-09-04 12:00:15'),\n",
    "    (5, 'user_4', 400, '2024-09-05 14:25:45'),\n",
    "    (6, 'user_2', 75, '2024-09-06 08:30:20'),\n",
    "    (7, 'user_5', 180, '2024-09-07 13:10:10'),\n",
    "    (8, 'user_6', 90, '2024-09-08 15:55:45'),\n",
    "    (9, 'user_1', 210, '2024-09-09 10:40:30'),\n",
    "    (10, 'user_7', 60, '2024-09-10 11:22:15')]\n",
    "result=UniqueUses(transrecords)\n",
    "print(result)"
   ]
  },
  {
   "cell_type": "code",
   "execution_count": 8,
   "id": "e40acb05-c86a-4d76-9462-17304d3e089c",
   "metadata": {},
   "outputs": [
    {
     "name": "stdout",
     "output_type": "stream",
     "text": [
      "(5, 'user_4', 400, '2024-09-05 14:25:45')\n"
     ]
    }
   ],
   "source": [
    "#Function to return transaction of highest amount\n",
    "def HighestAmount(transrecords):\n",
    "    new=sorted(transrecords, key=lambda x:x[2])\n",
    "    return new[-1]\n",
    "transrecords=[(1, 'user_1', 150, '2024-09-01 10:30:25'),\n",
    "    (2, 'user_2', 200, '2024-09-02 11:15:35'),\n",
    "    (3, 'user_1', 300, '2024-09-03 09:45:00'),\n",
    "    (4, 'user_3', 50, '2024-09-04 12:00:15'),\n",
    "    (5, 'user_4', 400, '2024-09-05 14:25:45'),\n",
    "    (6, 'user_2', 75, '2024-09-06 08:30:20'),\n",
    "    (7, 'user_5', 180, '2024-09-07 13:10:10'),\n",
    "    (8, 'user_6', 90, '2024-09-08 15:55:45'),\n",
    "    (9, 'user_1', 210, '2024-09-09 10:40:30'),\n",
    "    (10, 'user_7', 60, '2024-09-10 11:22:15')]    \n",
    "result=HighestAmount(transrecords)\n",
    "print(result)\n"
   ]
  },
  {
   "cell_type": "code",
   "execution_count": 9,
   "id": "174c1dbf-fc56-4c20-bf35-263f8359a16a",
   "metadata": {},
   "outputs": [
    {
     "name": "stdout",
     "output_type": "stream",
     "text": [
      "[1, 2, 3, 4, 5, 6, 7, 8, 9, 10] \n",
      "['user_1', 'user_2', 'user_1', 'user_3', 'user_4', 'user_2', 'user_5', 'user_6', 'user_1', 'user_7']\n"
     ]
    }
   ],
   "source": [
    "#Function to return user id's and transaction id's\n",
    "def IDS(transrecords):\n",
    "    users=[]\n",
    "    transctions=[]\n",
    "    for i in transrecords:\n",
    "        users.append(i[0])\n",
    "        transctions.append(i[1])\n",
    "\n",
    "    return (f\"{users} \\n{transctions}\")\n",
    "transrecords=[(1, 'user_1', 150, '2024-09-01 10:30:25'),\n",
    "    (2, 'user_2', 200, '2024-09-02 11:15:35'),\n",
    "    (3, 'user_1', 300, '2024-09-03 09:45:00'),\n",
    "    (4, 'user_3', 50, '2024-09-04 12:00:15'),\n",
    "    (5, 'user_4', 400, '2024-09-05 14:25:45'),\n",
    "    (6, 'user_2', 75, '2024-09-06 08:30:20'),\n",
    "    (7, 'user_5', 180, '2024-09-07 13:10:10'),\n",
    "    (8, 'user_6', 90, '2024-09-08 15:55:45'),\n",
    "    (9, 'user_1', 210, '2024-09-09 10:40:30'),\n",
    "    (10, 'user_7', 60, '2024-09-10 11:22:15')] \n",
    "result=IDS(transrecords)\n",
    "print(result)\n"
   ]
  },
  {
   "cell_type": "raw",
   "id": "34415e9b-ad9a-4c06-8ca4-7ba07f5830c8",
   "metadata": {},
   "source": [
    "Unique data handeling with Sets"
   ]
  },
  {
   "cell_type": "code",
   "execution_count": 17,
   "id": "0ebf5bcd-591c-4df9-ac61-43d413af45a0",
   "metadata": {},
   "outputs": [
    {
     "name": "stdout",
     "output_type": "stream",
     "text": [
      "[5, 13, 18]\n"
     ]
    }
   ],
   "source": [
    "#users who visited both Page A and Page B\n",
    "def AandB(allusers,pageA,pageB):\n",
    "    users=[]\n",
    "    for i in allusers:\n",
    "        if i in pageA and i in pageB:\n",
    "            users.append(i)\n",
    "    return users\n",
    "\n",
    "pageA = {3, 5, 7, 8, 13, 16, 17, 18, 22, 25}\n",
    "pageB = {15, 5, 13, 24, 18, 41, 18, 6, 10, 21}\n",
    "allusers={1, 2, 3, 4, 5, 6, 7, 8, 9, 10,\n",
    "11, 12, 13, 14, 15, 16, 17, 18, 19, 20,\n",
    "21, 22, 23, 24, 25, 26, 27, 28, 29, 30}\n",
    "result=AandB(allusers,pageA,pageB)\n",
    "print(result)\n"
   ]
  },
  {
   "cell_type": "code",
   "execution_count": 19,
   "id": "88d71d30-a7bc-4b63-a62d-4dfa2de02490",
   "metadata": {},
   "outputs": [
    {
     "name": "stdout",
     "output_type": "stream",
     "text": [
      "[3, 6, 7, 8, 10, 15, 16, 17, 21, 22, 24, 25]\n"
     ]
    }
   ],
   "source": [
    "# users who visited either Page A or Page C, but not both.\n",
    "def AandC(allusers,pageA,pageC):\n",
    "    users=[]\n",
    "    for i in allusers:\n",
    "        if (i in pageA and i not in pageC) or (i in pageC and i not in pageA):\n",
    "            users.append(i)\n",
    "    return users\n",
    "pageA = {3, 5, 7, 8, 13, 16, 17, 18, 22, 25}\n",
    "pageC = {15, 5, 13, 24, 18, 41, 18, 6, 10, 21}\n",
    "allusers={1, 2, 3, 4, 5, 6, 7, 8, 9, 10,\n",
    "11, 12, 13, 14, 15, 16, 17, 18, 19, 20,\n",
    "21, 22, 23, 24, 25, 26, 27, 28, 29, 30}\n",
    "\n",
    "result=AandC(allusers,pageA,pageC)\n",
    "print(result)\n"
   ]
  },
  {
   "cell_type": "code",
   "execution_count": 20,
   "id": "b7c4c4c6-d546-4179-be44-b8b2fbf02b19",
   "metadata": {},
   "outputs": [
    {
     "name": "stdout",
     "output_type": "stream",
     "text": [
      "18\n"
     ]
    }
   ],
   "source": [
    "# Updates the set for Page A with new user IDs\n",
    "def addusers(users):\n",
    "    pageA.update(users)\n",
    "    return len(pageA)\n",
    "\n",
    "pageA = {3, 5, 7, 8, 13, 16, 17, 18, 22, 25}\n",
    "users=(1,6,9,55,44,99,88,77)\n",
    "result=addusers(users)\n",
    "print(result)\n"
   ]
  },
  {
   "cell_type": "code",
   "execution_count": 22,
   "id": "03b2447b-e6a2-4851-9595-8bcbee6d9e11",
   "metadata": {},
   "outputs": [
    {
     "name": "stdout",
     "output_type": "stream",
     "text": [
      "{5, 6, 41, 10, 13, 24}\n"
     ]
    }
   ],
   "source": [
    "#Remove list of user id's from pageB\n",
    "def removeusersfromB(pageB):\n",
    "    for user in [15, 18,21]:\n",
    "        pageB.discard(user)\n",
    "\n",
    "    return pageB\n",
    "pageB = {15, 5, 13, 24, 18, 41, 18, 6, 10, 21}\n",
    "result=removeusersfromB(pageB)\n",
    "print(result)\n"
   ]
  },
  {
   "cell_type": "raw",
   "id": "95b5d25a-3251-49c7-aa4e-56b10f527434",
   "metadata": {},
   "source": [
    "Data agregation with Dictionaries"
   ]
  },
  {
   "cell_type": "code",
   "execution_count": 24,
   "id": "9fa0614c-e825-40d5-a4f5-544f82468efc",
   "metadata": {},
   "outputs": [
    {
     "name": "stdout",
     "output_type": "stream",
     "text": [
      "{102: 5, 105: 5}\n"
     ]
    }
   ],
   "source": [
    "# Function to filters out users who rated 4 or higher and stores their user_id and rating\n",
    "def Above4(mydict):\n",
    "    new_dict={}\n",
    "    for user_id, details in mydict.items():\n",
    "        if details['rating'] > 4:\n",
    "            new_dict[user_id] = details['rating']\n",
    "    return new_dict\n",
    "\n",
    "mydict={101: {'rating': 4, 'comments': 'The website is user-friendly and fast.'},\n",
    " 102: {'rating': 5, 'comments': 'Great customer service and easy navigation.'},\n",
    " 103: {'rating': 3, 'comments': 'Could improve the loading speed.'},\n",
    " 104: {'rating': 2, 'comments': 'I had trouble finding the contact information.'},\n",
    " 105: {'rating': 5, 'comments': 'Excellent design and smooth experience!'},\n",
    " 106: {'rating': 1, 'comments': 'Found what I was looking for quickly.'},\n",
    " 107: {'rating': 1, 'comments': 'The search feature could be better.'},\n",
    " 108: {'rating': 3, 'comments': 'Loved the colors and design, very modern.'}}\n",
    "result=Above4(mydict)\n",
    "print(result)\n"
   ]
  },
  {
   "cell_type": "code",
   "execution_count": 25,
   "id": "766b0cc0-0eb9-445f-98d3-7ef29e6e5ba4",
   "metadata": {},
   "outputs": [
    {
     "name": "stdout",
     "output_type": "stream",
     "text": [
      "{102: {'rating': 5, 'comments': 'Great customer service and easy navigation.'}, 105: {'rating': 5, 'comments': 'Excellent design and smooth experience!'}, 101: {'rating': 4, 'comments': 'The website is user-friendly and fast.'}}\n"
     ]
    }
   ],
   "source": [
    "#Function that sort dict in decending order and return top 3 Users\n",
    "def HighRatedUsers(mydict):\n",
    "    sorted_dict = sorted(mydict.items(), key=lambda item: item[1]['rating'], reverse=True)\n",
    "    top3 = dict(sorted_dict[:3])\n",
    "\n",
    "    return top3\n",
    "\n",
    "mydict={101: {'rating': 4, 'comments': 'The website is user-friendly and fast.'},\n",
    " 102: {'rating': 5, 'comments': 'Great customer service and easy navigation.'},\n",
    " 103: {'rating': 3, 'comments': 'Could improve the loading speed.'},\n",
    " 104: {'rating': 2, 'comments': 'I had trouble finding the contact information.'},\n",
    " 105: {'rating': 5, 'comments': 'Excellent design and smooth experience!'},\n",
    " 106: {'rating': 1, 'comments': 'Found what I was looking for quickly.'},\n",
    " 107: {'rating': 1, 'comments': 'The search feature could be better.'},\n",
    " 108: {'rating': 3, 'comments': 'Loved the colors and design, very modern.'}}\n",
    "result = HighRatedUsers(mydict)\n",
    "print(result)\n"
   ]
  },
  {
   "cell_type": "code",
   "execution_count": 26,
   "id": "0e6a59e1-598b-4e89-8c77-cc9626921864",
   "metadata": {},
   "outputs": [
    {
     "name": "stdout",
     "output_type": "stream",
     "text": [
      "Combined Feedback: {101: {'rating': 5, 'comments': 'The website is user-friendly. Fast response time.'}, 102: {'rating': 5, 'comments': 'Good service. Easy navigation.'}, 103: {'rating': 2, 'comments': 'Slow loading.'}, 104: {'rating': 4, 'comments': 'Good design.'}}\n"
     ]
    }
   ],
   "source": [
    "#Function combine feedback from multipke dictionaries\n",
    "def combine_feedback(dicts):\n",
    "    combined_feedback = {}\n",
    "    for feedback in dicts:\n",
    "        for user_id, details in feedback.items():\n",
    "            if user_id in combined_feedback:\n",
    "                combined_feedback[user_id]['rating'] = max(combined_feedback[user_id]['rating'], details['rating'])\n",
    "                combined_feedback[user_id]['comments'] += \" \" + details['comments']\n",
    "            else:\n",
    "                combined_feedback[user_id] = details.copy()\n",
    "\n",
    "    return combined_feedback\n",
    "\n",
    "\n",
    "feedback1 = {\n",
    "    101: {'rating': 4, 'comments': 'The website is user-friendly.'},\n",
    "    102: {'rating': 3, 'comments': 'Good service.'}\n",
    "}\n",
    "feedback2 = {\n",
    "    102: {'rating': 5, 'comments': 'Easy navigation.'},\n",
    "    103: {'rating': 2, 'comments': 'Slow loading.'}\n",
    "}\n",
    "feedback3 = {\n",
    "    101: {'rating': 5, 'comments': 'Fast response time.'},\n",
    "    104: {'rating': 4, 'comments': 'Good design.'}\n",
    "}\n",
    "\n",
    "\n",
    "combined_feedback = combine_feedback([feedback1, feedback2, feedback3])\n",
    "print(\"Combined Feedback:\", combined_feedback)\n"
   ]
  }
 ],
 "metadata": {
  "kernelspec": {
   "display_name": "Python 3 (ipykernel)",
   "language": "python",
   "name": "python3"
  },
  "language_info": {
   "codemirror_mode": {
    "name": "ipython",
    "version": 3
   },
   "file_extension": ".py",
   "mimetype": "text/x-python",
   "name": "python",
   "nbconvert_exporter": "python",
   "pygments_lexer": "ipython3",
   "version": "3.12.4"
  }
 },
 "nbformat": 4,
 "nbformat_minor": 5
}
