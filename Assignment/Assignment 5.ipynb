{
 "cells": [
  {
   "cell_type": "markdown",
   "id": "3abec201-72ca-44d1-99e5-6cc76ddc1d4a",
   "metadata": {},
   "source": [
    "# Assignment 5"
   ]
  },
  {
   "cell_type": "code",
   "execution_count": 20,
   "id": "07c32018-7926-4683-9b16-a6c6b9d5aae4",
   "metadata": {},
   "outputs": [],
   "source": [
    "import pandas as pd \n",
    "import time"
   ]
  },
  {
   "cell_type": "markdown",
   "id": "2dcbf4ce-2f2f-4c20-8680-0507607ecf64",
   "metadata": {},
   "source": [
    "## Task 01"
   ]
  },
  {
   "cell_type": "code",
   "execution_count": 21,
   "id": "fa0577b5-a2dd-4dd5-89a7-6716b5d045a4",
   "metadata": {},
   "outputs": [],
   "source": [
    "df1=pd.read_csv(\"sales.csv\")   #Reading sales csv\n",
    "df2=pd.read_csv(\"customers.csv\") #Reading customers csv"
   ]
  },
  {
   "cell_type": "code",
   "execution_count": 22,
   "id": "ee490416-846e-4f69-a6c2-c87fc6cf67f5",
   "metadata": {},
   "outputs": [
    {
     "data": {
      "text/plain": [
       "(400, 4)"
      ]
     },
     "execution_count": 22,
     "metadata": {},
     "output_type": "execute_result"
    }
   ],
   "source": [
    "df1.shape #Dimensions of sales.csv"
   ]
  },
  {
   "cell_type": "code",
   "execution_count": 23,
   "id": "b3a87d67-959c-4a0c-bdd6-4dc5a20c4096",
   "metadata": {},
   "outputs": [
    {
     "data": {
      "text/plain": [
       "(100, 3)"
      ]
     },
     "execution_count": 23,
     "metadata": {},
     "output_type": "execute_result"
    }
   ],
   "source": [
    "df2.shape #Dimensions of customers.csv"
   ]
  },
  {
   "cell_type": "code",
   "execution_count": 24,
   "id": "91f01127-7c2d-496e-9dc9-71d76688ebb3",
   "metadata": {},
   "outputs": [
    {
     "data": {
      "text/html": [
       "<div>\n",
       "<style scoped>\n",
       "    .dataframe tbody tr th:only-of-type {\n",
       "        vertical-align: middle;\n",
       "    }\n",
       "\n",
       "    .dataframe tbody tr th {\n",
       "        vertical-align: top;\n",
       "    }\n",
       "\n",
       "    .dataframe thead th {\n",
       "        text-align: right;\n",
       "    }\n",
       "</style>\n",
       "<table border=\"1\" class=\"dataframe\">\n",
       "  <thead>\n",
       "    <tr style=\"text-align: right;\">\n",
       "      <th></th>\n",
       "      <th>SaleID</th>\n",
       "      <th>CustomerID</th>\n",
       "      <th>Product</th>\n",
       "      <th>Amount</th>\n",
       "    </tr>\n",
       "  </thead>\n",
       "  <tbody>\n",
       "    <tr>\n",
       "      <th>0</th>\n",
       "      <td>101</td>\n",
       "      <td>1</td>\n",
       "      <td>Laptop</td>\n",
       "      <td>200</td>\n",
       "    </tr>\n",
       "    <tr>\n",
       "      <th>1</th>\n",
       "      <td>102</td>\n",
       "      <td>2</td>\n",
       "      <td>Smartphone</td>\n",
       "      <td>500</td>\n",
       "    </tr>\n",
       "    <tr>\n",
       "      <th>2</th>\n",
       "      <td>103</td>\n",
       "      <td>3</td>\n",
       "      <td>Tablet</td>\n",
       "      <td>800</td>\n",
       "    </tr>\n",
       "    <tr>\n",
       "      <th>3</th>\n",
       "      <td>104</td>\n",
       "      <td>4</td>\n",
       "      <td>Headphones</td>\n",
       "      <td>1100</td>\n",
       "    </tr>\n",
       "    <tr>\n",
       "      <th>4</th>\n",
       "      <td>105</td>\n",
       "      <td>5</td>\n",
       "      <td>Monitor</td>\n",
       "      <td>1400</td>\n",
       "    </tr>\n",
       "  </tbody>\n",
       "</table>\n",
       "</div>"
      ],
      "text/plain": [
       "   SaleID  CustomerID     Product  Amount\n",
       "0     101           1      Laptop     200\n",
       "1     102           2  Smartphone     500\n",
       "2     103           3      Tablet     800\n",
       "3     104           4  Headphones    1100\n",
       "4     105           5     Monitor    1400"
      ]
     },
     "execution_count": 24,
     "metadata": {},
     "output_type": "execute_result"
    }
   ],
   "source": [
    "df1.head()   #Show first 5 rows of sales"
   ]
  },
  {
   "cell_type": "code",
   "execution_count": 25,
   "id": "430d558d-4174-4551-9fab-48855fada049",
   "metadata": {},
   "outputs": [
    {
     "data": {
      "text/html": [
       "<div>\n",
       "<style scoped>\n",
       "    .dataframe tbody tr th:only-of-type {\n",
       "        vertical-align: middle;\n",
       "    }\n",
       "\n",
       "    .dataframe tbody tr th {\n",
       "        vertical-align: top;\n",
       "    }\n",
       "\n",
       "    .dataframe thead th {\n",
       "        text-align: right;\n",
       "    }\n",
       "</style>\n",
       "<table border=\"1\" class=\"dataframe\">\n",
       "  <thead>\n",
       "    <tr style=\"text-align: right;\">\n",
       "      <th></th>\n",
       "      <th>CustomerID</th>\n",
       "      <th>Age</th>\n",
       "      <th>City</th>\n",
       "    </tr>\n",
       "  </thead>\n",
       "  <tbody>\n",
       "    <tr>\n",
       "      <th>0</th>\n",
       "      <td>1</td>\n",
       "      <td>22</td>\n",
       "      <td>New York</td>\n",
       "    </tr>\n",
       "    <tr>\n",
       "      <th>1</th>\n",
       "      <td>2</td>\n",
       "      <td>23</td>\n",
       "      <td>Los Angeles</td>\n",
       "    </tr>\n",
       "    <tr>\n",
       "      <th>2</th>\n",
       "      <td>3</td>\n",
       "      <td>24</td>\n",
       "      <td>Chicago</td>\n",
       "    </tr>\n",
       "    <tr>\n",
       "      <th>3</th>\n",
       "      <td>4</td>\n",
       "      <td>25</td>\n",
       "      <td>Houston</td>\n",
       "    </tr>\n",
       "    <tr>\n",
       "      <th>4</th>\n",
       "      <td>5</td>\n",
       "      <td>26</td>\n",
       "      <td>Phoenix</td>\n",
       "    </tr>\n",
       "  </tbody>\n",
       "</table>\n",
       "</div>"
      ],
      "text/plain": [
       "   CustomerID  Age         City\n",
       "0           1   22     New York\n",
       "1           2   23  Los Angeles\n",
       "2           3   24      Chicago\n",
       "3           4   25      Houston\n",
       "4           5   26      Phoenix"
      ]
     },
     "execution_count": 25,
     "metadata": {},
     "output_type": "execute_result"
    }
   ],
   "source": [
    "df2.head()    #Shows first 5 rows of customers"
   ]
  },
  {
   "cell_type": "markdown",
   "id": "6cc2dacf-39be-407e-b6e5-5363704e41b7",
   "metadata": {},
   "source": [
    "## Task 02"
   ]
  },
  {
   "cell_type": "code",
   "execution_count": 26,
   "id": "a4243530-b9c1-46ec-b402-25f3e7d60ee4",
   "metadata": {},
   "outputs": [
    {
     "name": "stdout",
     "output_type": "stream",
     "text": [
      "[{'CustomerID': 1, 'Age': 22, 'City': 'New York'}, {'CustomerID': 2, 'Age': 23, 'City': 'Los Angeles'}, {'CustomerID': 3, 'Age': 24, 'City': 'Chicago'}, {'CustomerID': 4, 'Age': 25, 'City': 'Houston'}, {'CustomerID': 5, 'Age': 26, 'City': 'Phoenix'}]\n"
     ]
    }
   ],
   "source": [
    "customers = df2.to_dict(orient='records')   #COnverting DF to Dictionary (Each record is a seprate dictionary)\n",
    "print(customers[:5])  \n"
   ]
  },
  {
   "cell_type": "code",
   "execution_count": 27,
   "id": "626f16c6-5a3e-4651-94ac-6853ca8f7a73",
   "metadata": {},
   "outputs": [
    {
     "name": "stdout",
     "output_type": "stream",
     "text": [
      "Number of customers from Houston: 20\n",
      "Time using dictionary: 0.001002 seconds\n"
     ]
    }
   ],
   "source": [
    "#FIlter the count of customers in Houston in dictionary\n",
    "city = \"Houston\"\n",
    "start_time = time.time()\n",
    "filtered = []\n",
    "for customer in customers:\n",
    "    if customer['City'] == city:\n",
    "        filtered.append(customer)\n",
    "dict_time = time.time() - start_time\n",
    "\n",
    "print(f\"Number of customers from {city}: {len(filtered)}\")\n",
    "print(f\"Time using dictionary: {dict_time:.6f} seconds\")"
   ]
  },
  {
   "cell_type": "code",
   "execution_count": 28,
   "id": "7d98c7ed-bf21-4d78-9422-b2b9304dfa3c",
   "metadata": {},
   "outputs": [
    {
     "name": "stdout",
     "output_type": "stream",
     "text": [
      "Filtered customers (DataFrame): 20\n",
      "Time using DataFrame: 0.004999 seconds\n"
     ]
    }
   ],
   "source": [
    "#FIlter the count of customers in Houston in DataFrame\n",
    "start_time = time.time()\n",
    "filtered_df = df2[df2['City'] == city]\n",
    "df_time = time.time() - start_time\n",
    "print(f\"Filtered customers (DataFrame): {len(filtered_df)}\")\n",
    "print(f\"Time using DataFrame: {df_time:.6f} seconds\")"
   ]
  },
  {
   "cell_type": "markdown",
   "id": "ed04e7eb-bda7-40a0-aabb-87fdfc232dbe",
   "metadata": {},
   "source": [
    "## Task 03"
   ]
  },
  {
   "cell_type": "code",
   "execution_count": 48,
   "id": "803668d4-0f96-4af1-b740-4e91aa33ee3b",
   "metadata": {},
   "outputs": [
    {
     "name": "stdout",
     "output_type": "stream",
     "text": [
      "Number of duplicate rows: 0\n",
      "Number of duplicate rows: 0\n"
     ]
    }
   ],
   "source": [
    "#To check if there are any duplicate rows \n",
    "duplicates = df1.duplicated()\n",
    "print(f\"Number of duplicate rows: {duplicates.sum()}\")\n",
    "duplicates2 = df2.duplicated()\n",
    "print(f\"Number of duplicate rows: {duplicates.sum()}\")"
   ]
  },
  {
   "cell_type": "markdown",
   "id": "36dd35f1-8d7a-47c7-b183-c4f955c15a3e",
   "metadata": {},
   "source": [
    "## Task 04"
   ]
  },
  {
   "cell_type": "code",
   "execution_count": 50,
   "id": "65c7497d-a3d2-4d36-abd0-282ff5b578db",
   "metadata": {},
   "outputs": [
    {
     "name": "stdout",
     "output_type": "stream",
     "text": [
      "   SaleID  CustomerID     Product  Amount  Discounted_Amount\n",
      "0     101           1      Laptop     200              180.0\n",
      "1     102           2  Smartphone     500              450.0\n",
      "2     103           3      Tablet     800              720.0\n",
      "3     104           4  Headphones    1100              990.0\n",
      "4     105           5     Monitor    1400             1260.0\n",
      "\n",
      "Data with Discounted Amount:\n",
      "   SaleID  CustomerID     Product  Amount  Discounted_Amount\n",
      "0     101           1      Laptop     200              180.0\n",
      "1     102           2  Smartphone     500              450.0\n",
      "2     103           3      Tablet     800              720.0\n",
      "3     104           4  Headphones    1100              990.0\n",
      "4     105           5     Monitor    1400             1260.0\n"
     ]
    }
   ],
   "source": [
    "#Add a column with 10% discount on amount \n",
    "print(df1.head())\n",
    "df1['Discounted_Amount'] = (df1[\"Amount\"] * 0.9)  \n",
    "print(\"\\nData with Discounted Amount:\")\n",
    "print(df1.head())"
   ]
  },
  {
   "cell_type": "code",
   "execution_count": 51,
   "id": "4306758c-704d-4f97-bb88-2473c266b384",
   "metadata": {},
   "outputs": [
    {
     "name": "stdout",
     "output_type": "stream",
     "text": [
      "\n",
      "Total Sales by Product:\n",
      "      Product  Total_Sales\n",
      "0  Headphones      79200.0\n",
      "1      Laptop      14400.0\n",
      "2     Monitor     100800.0\n",
      "3  Smartphone      36000.0\n",
      "4      Tablet      57600.0\n"
     ]
    }
   ],
   "source": [
    "#Grouping Products and sum the discounted price that is calculated in last task\n",
    "grouped_sales = df1.groupby('Product')['Discounted_Amount'].sum().reset_index()\n",
    "grouped_sales.rename(columns={'Discounted_Amount': 'Total_Sales'}, inplace=True)\n",
    "print(\"\\nTotal Sales by Product:\")\n",
    "print(grouped_sales)"
   ]
  },
  {
   "cell_type": "markdown",
   "id": "a0425e8e-baec-4de7-8d64-9506f6b94db9",
   "metadata": {},
   "source": [
    "## Task 5"
   ]
  },
  {
   "cell_type": "code",
   "execution_count": 53,
   "id": "a2bc062b-5116-45a9-a54d-a352bce8baa3",
   "metadata": {},
   "outputs": [
    {
     "name": "stdout",
     "output_type": "stream",
     "text": [
      "\n",
      "Filtered Customers (Age 25-35):\n",
      "    CustomerID  Age         City\n",
      "3            4   25      Houston\n",
      "4            5   26      Phoenix\n",
      "5            6   27     New York\n",
      "6            7   28  Los Angeles\n",
      "7            8   29      Chicago\n",
      "8            9   30      Houston\n",
      "9           10   31      Phoenix\n",
      "10          11   32     New York\n",
      "11          12   33  Los Angeles\n",
      "12          13   34      Chicago\n",
      "13          14   35      Houston\n",
      "33          34   25      Houston\n",
      "34          35   26      Phoenix\n",
      "35          36   27     New York\n",
      "36          37   28  Los Angeles\n",
      "37          38   29      Chicago\n",
      "38          39   30      Houston\n",
      "39          40   31      Phoenix\n",
      "40          41   32     New York\n",
      "41          42   33  Los Angeles\n",
      "42          43   34      Chicago\n",
      "43          44   35      Houston\n",
      "63          64   25      Houston\n",
      "64          65   26      Phoenix\n",
      "65          66   27     New York\n",
      "66          67   28  Los Angeles\n",
      "67          68   29      Chicago\n",
      "68          69   30      Houston\n",
      "69          70   31      Phoenix\n",
      "70          71   32     New York\n",
      "71          72   33  Los Angeles\n",
      "72          73   34      Chicago\n",
      "73          74   35      Houston\n",
      "93          94   25      Houston\n",
      "94          95   26      Phoenix\n",
      "95          96   27     New York\n",
      "96          97   28  Los Angeles\n",
      "97          98   29      Chicago\n",
      "98          99   30      Houston\n",
      "99         100   31      Phoenix\n"
     ]
    }
   ],
   "source": [
    "#Filter people of specific age group (25 to 35)\n",
    "filt = df2[(df2['Age'] >= 25) & (df2['Age'] <= 35)]\n",
    "print(\"\\nFiltered Customers (Age 25-35):\")\n",
    "print(filt)"
   ]
  },
  {
   "cell_type": "code",
   "execution_count": 54,
   "id": "77a6520e-d232-4a2e-89c2-994a242baa28",
   "metadata": {},
   "outputs": [
    {
     "name": "stdout",
     "output_type": "stream",
     "text": [
      "\n",
      "City-wise Customer Count:\n",
      "          City  Customer_Count\n",
      "0      Houston              11\n",
      "1      Phoenix               8\n",
      "2     New York               7\n",
      "3  Los Angeles               7\n",
      "4      Chicago               7\n"
     ]
    }
   ],
   "source": [
    "#Counting specifcally filtered people from each city\n",
    "city = filt['City'].value_counts().reset_index()\n",
    "city.columns = ['City', 'Customer_Count']\n",
    "\n",
    "print(\"\\nCity-wise Customer Count:\")\n",
    "print(city)\n"
   ]
  },
  {
   "cell_type": "markdown",
   "id": "11ce6aea-4b49-458e-b1bc-7ce7af839aff",
   "metadata": {},
   "source": [
    "## Task 06"
   ]
  },
  {
   "cell_type": "code",
   "execution_count": 56,
   "id": "81386488-95b7-4a9c-8c44-ef33e07ec194",
   "metadata": {},
   "outputs": [
    {
     "data": {
      "text/html": [
       "<div>\n",
       "<style scoped>\n",
       "    .dataframe tbody tr th:only-of-type {\n",
       "        vertical-align: middle;\n",
       "    }\n",
       "\n",
       "    .dataframe tbody tr th {\n",
       "        vertical-align: top;\n",
       "    }\n",
       "\n",
       "    .dataframe thead th {\n",
       "        text-align: right;\n",
       "    }\n",
       "</style>\n",
       "<table border=\"1\" class=\"dataframe\">\n",
       "  <thead>\n",
       "    <tr style=\"text-align: right;\">\n",
       "      <th></th>\n",
       "      <th>SaleID</th>\n",
       "      <th>CustomerID</th>\n",
       "      <th>Product</th>\n",
       "      <th>Amount</th>\n",
       "      <th>Discounted_Amount</th>\n",
       "      <th>Age</th>\n",
       "      <th>City</th>\n",
       "    </tr>\n",
       "  </thead>\n",
       "  <tbody>\n",
       "    <tr>\n",
       "      <th>0</th>\n",
       "      <td>101</td>\n",
       "      <td>1</td>\n",
       "      <td>Laptop</td>\n",
       "      <td>200</td>\n",
       "      <td>180.0</td>\n",
       "      <td>22</td>\n",
       "      <td>New York</td>\n",
       "    </tr>\n",
       "    <tr>\n",
       "      <th>1</th>\n",
       "      <td>102</td>\n",
       "      <td>2</td>\n",
       "      <td>Smartphone</td>\n",
       "      <td>500</td>\n",
       "      <td>450.0</td>\n",
       "      <td>23</td>\n",
       "      <td>Los Angeles</td>\n",
       "    </tr>\n",
       "    <tr>\n",
       "      <th>2</th>\n",
       "      <td>103</td>\n",
       "      <td>3</td>\n",
       "      <td>Tablet</td>\n",
       "      <td>800</td>\n",
       "      <td>720.0</td>\n",
       "      <td>24</td>\n",
       "      <td>Chicago</td>\n",
       "    </tr>\n",
       "    <tr>\n",
       "      <th>3</th>\n",
       "      <td>104</td>\n",
       "      <td>4</td>\n",
       "      <td>Headphones</td>\n",
       "      <td>1100</td>\n",
       "      <td>990.0</td>\n",
       "      <td>25</td>\n",
       "      <td>Houston</td>\n",
       "    </tr>\n",
       "    <tr>\n",
       "      <th>4</th>\n",
       "      <td>105</td>\n",
       "      <td>5</td>\n",
       "      <td>Monitor</td>\n",
       "      <td>1400</td>\n",
       "      <td>1260.0</td>\n",
       "      <td>26</td>\n",
       "      <td>Phoenix</td>\n",
       "    </tr>\n",
       "  </tbody>\n",
       "</table>\n",
       "</div>"
      ],
      "text/plain": [
       "   SaleID  CustomerID     Product  Amount  Discounted_Amount  Age         City\n",
       "0     101           1      Laptop     200              180.0   22     New York\n",
       "1     102           2  Smartphone     500              450.0   23  Los Angeles\n",
       "2     103           3      Tablet     800              720.0   24      Chicago\n",
       "3     104           4  Headphones    1100              990.0   25      Houston\n",
       "4     105           5     Monitor    1400             1260.0   26      Phoenix"
      ]
     },
     "execution_count": 56,
     "metadata": {},
     "output_type": "execute_result"
    }
   ],
   "source": [
    "#Merging the sales and customers dataframes in new dataframe on CustomerID\n",
    "df3 = pd.merge(df1, df2, on='CustomerID', how='inner')\n",
    "df3.head()"
   ]
  },
  {
   "cell_type": "code",
   "execution_count": 57,
   "id": "21572e51-1f6e-4a51-80e0-8039acccead7",
   "metadata": {},
   "outputs": [
    {
     "name": "stdout",
     "output_type": "stream",
     "text": [
      "\n",
      "City with the highest total sales:\n",
      "City      Chicago\n",
      "Amount      64000\n",
      "Name: 0, dtype: object\n"
     ]
    }
   ],
   "source": [
    "#Finding the city with the highest sales\n",
    "city_sales = df3.groupby('City')['Amount'].sum().reset_index()\n",
    "sales = city_sales.sort_values(by='Amount', ascending=False)\n",
    "\n",
    "highest_sales_city = city_sales.iloc[0]\n",
    "print(\"\\nCity with the highest total sales:\")\n",
    "print(highest_sales_city)"
   ]
  },
  {
   "cell_type": "code",
   "execution_count": 58,
   "id": "27326579-78d8-426e-a06d-68bb2173947d",
   "metadata": {
    "scrolled": true
   },
   "outputs": [
    {
     "name": "stdout",
     "output_type": "stream",
     "text": [
      "\n",
      "Product with the most total sales:\n",
      "Product    Monitor\n",
      "Amount      112000\n",
      "Name: 2, dtype: object\n"
     ]
    }
   ],
   "source": [
    "#Finding the most sold product \n",
    "product_sales = df3.groupby('Product')['Amount'].sum().reset_index()\n",
    "product_sales = product_sales.sort_values(by='Amount', ascending=False)\n",
    "most_sold = product_sales.iloc[0]\n",
    "print(\"\\nProduct with the most total sales:\")\n",
    "print(most_sold)\n"
   ]
  },
  {
   "cell_type": "markdown",
   "id": "dd44bc47-3ece-4da3-84a0-1ab08504515e",
   "metadata": {},
   "source": [
    "## Task 07"
   ]
  },
  {
   "cell_type": "code",
   "execution_count": 59,
   "id": "f7fe3a7a-b30b-4a2e-a79e-15192704fe07",
   "metadata": {},
   "outputs": [
    {
     "name": "stdout",
     "output_type": "stream",
     "text": [
      "Unique Cities:\n",
      "['New York' 'Los Angeles' 'Chicago' 'Houston' 'Phoenix']\n",
      "\n",
      "Unique Products:\n",
      "['Laptop' 'Smartphone' 'Tablet' 'Headphones' 'Monitor']\n",
      "\n",
      "Mean of Amount: 800.0\n",
      "Median of Amount: 800.0\n"
     ]
    }
   ],
   "source": [
    "#Finding the unique cities,products,mean amount , median amount\n",
    "print(\"Unique Cities:\")\n",
    "print(df3['City'].unique())\n",
    "print(\"\\nUnique Products:\")\n",
    "print(df3['Product'].unique())\n",
    "mean_amount = df3['Amount'].mean()\n",
    "median_amount = df3['Amount'].median()\n",
    "print(\"\\nMean of Amount:\", mean_amount)\n",
    "print(\"Median of Amount:\", median_amount)\n"
   ]
  },
  {
   "cell_type": "code",
   "execution_count": null,
   "id": "eafd7642-bfb7-4c5f-b488-8818ca101eeb",
   "metadata": {},
   "outputs": [],
   "source": []
  }
 ],
 "metadata": {
  "kernelspec": {
   "display_name": "Python 3 (ipykernel)",
   "language": "python",
   "name": "python3"
  },
  "language_info": {
   "codemirror_mode": {
    "name": "ipython",
    "version": 3
   },
   "file_extension": ".py",
   "mimetype": "text/x-python",
   "name": "python",
   "nbconvert_exporter": "python",
   "pygments_lexer": "ipython3",
   "version": "3.12.4"
  }
 },
 "nbformat": 4,
 "nbformat_minor": 5
}
