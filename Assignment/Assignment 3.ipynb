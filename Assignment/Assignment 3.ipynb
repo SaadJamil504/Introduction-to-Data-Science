{
 "cells": [
  {
   "cell_type": "raw",
   "id": "5594855f-d6d4-4d2b-bf6b-d374bac6521d",
   "metadata": {},
   "source": [
    "Assignment 3: Python Programming Concepts"
   ]
  },
  {
   "cell_type": "raw",
   "id": "32780533-3409-4a15-8be3-3f158b91bfe0",
   "metadata": {},
   "source": [
    "Task 1: E-commerce Data Processing"
   ]
  },
  {
   "cell_type": "raw",
   "id": "38aedcc4-56a4-40e1-a894-9c72f13c677b",
   "metadata": {},
   "source": [
    "Part A:\n",
    "Data Validation\n",
    "    You are given a list of dictionaries where each dictionary represents an order with customer \n",
    "    details.\n",
    "Write a function that:\n",
    "    • Uses a lambda function with the filter() built-in function to filter out invalid \n",
    "      orders where the total is either non-numeric or less than zero.\n",
    "    • Uses exception handling to handle any type conversion issues.\n",
    "    • Return the filtered valid orders as a list of dictionaries."
   ]
  },
  {
   "cell_type": "code",
   "execution_count": null,
   "id": "8563286d-c3d7-4fcf-a3f3-b6e37a73338f",
   "metadata": {},
   "outputs": [],
   "source": [
    "def validate_orders(orders):\n",
    "    return [order for order in orders if isinstance(order.get('total'), (int, float)) and order['total'] >= 0]\n",
    "\n",
    "\n",
    "orders = [\n",
    "    {\"customer\": \"Alice\", \"total\": 250.5},\n",
    "    {\"customer\": \"Bob\", \"total\": \"invalid_data\"},\n",
    "    {\"customer\": \"Charlie\", \"total\": 450},\n",
    "    {\"customer\": \"Daisy\", \"total\": 100.0},\n",
    "    {\"customer\": \"Eve\", \"total\": -30},  # Invalid total\n",
    "]\n",
    "valid_orders = validate_orders(orders)\n",
    "print(valid_orders)\n"
   ]
  },
  {
   "cell_type": "raw",
   "id": "b50cd56e-6d11-450b-a869-b128c1f1b84d",
   "metadata": {},
   "source": [
    "Part B: Discount Application\n",
    "    After validating the orders, the store is offering a 10% discount on all orders above $300.\n",
    "    Write a function that:\n",
    "        • Uses the map() function with a lambda to apply the discount to qualifying orders.\n",
    "        • Returns a new list with the updated totals for each customer."
   ]
  },
  {
   "cell_type": "code",
   "execution_count": null,
   "id": "bf743905-2b18-488b-ad37-2a44f4cee42b",
   "metadata": {},
   "outputs": [],
   "source": [
    "def apply_discount(orders):\n",
    "    return list(map(lambda order: order if not isinstance(order['total'], (int, float)) or order['total'] <= 0 \n",
    "                        else(order if order['total'] <= 300 else {**order, 'total': order['total'] * 0.9}), orders))\n",
    "\n",
    "valid_orders = [\n",
    "    {\"customer\": \"Alice\", \"total\": 250.5},\n",
    "    {\"customer\": \"Bob\", \"total\": \"invalid_data\"},  # Invalid data\n",
    "    {\"customer\": \"Charlie\", \"total\": 450},\n",
    "    {\"customer\": \"Daisy\", \"total\": 100.0},\n",
    "    {\"customer\": \"Eve\", \"total\": -30},  # Invalid total\n",
    "]\n",
    "discounted_orders = apply_discount(valid_orders)\n",
    "print(discounted_orders)\n",
    "#lambda order: order if not isinstance(order['total'], (int, float)) or order['total'] <= 0 \n",
    "#the above commented line check that total is int or float only and total amount must not be in negative numbers\n",
    "#After that it will check if amount is less or equal to 300 record will be unchanged \n",
    "#else total amount will be multiplied by 0.9 giving 10% discount\n"
   ]
  },
  {
   "cell_type": "raw",
   "id": "65c06201-f821-4083-9b75-425d1c2197a0",
   "metadata": {},
   "source": [
    "Task 2: Iterator and Generator"
   ]
  },
  {
   "cell_type": "raw",
   "id": "18847acb-30b4-447d-939e-b1255aff3610",
   "metadata": {},
   "source": [
    "Part A:\n",
    "    Create a custom iterator class SquareIterator that:\n",
    "        • Takes an integer n and iterates over the first n natural numbers, yielding their squares\n",
    "        "
   ]
  },
  {
   "cell_type": "code",
   "execution_count": null,
   "id": "c5877408-02f3-4437-9c00-489506d4caa3",
   "metadata": {},
   "outputs": [],
   "source": [
    "class SquareIterator:\n",
    "    def __init__(self, n):\n",
    "        self.n = n    #Upper limit of iteration\n",
    "        self.current = 1  #current number to start iteration\n",
    "\n",
    "    def __iter__(self):\n",
    "        return self\n",
    "\n",
    "    def __next__(self):\n",
    "        if self.current <= self.n:\n",
    "            result = self.current ** 2\n",
    "            self.current += 1\n",
    "            return result\n",
    "        else:\n",
    "            raise StopIteration\n",
    "\n",
    "\n",
    "n = 5\n",
    "squares = SquareIterator(n)\n",
    "for square in squares:  #call __iter__ method and repeatedly call __next__ until exception occur\n",
    "    print(square)"
   ]
  },
  {
   "cell_type": "raw",
   "id": "3394d083-fa0f-47b0-b488-326e53694005",
   "metadata": {},
   "source": [
    "Part B: Fibonacci Generator\n",
    "    Write a generator function fibonacci_generator() that:\n",
    "        • Yields the Fibonacci sequence up to the number n.\n",
    "        "
   ]
  },
  {
   "cell_type": "code",
   "execution_count": null,
   "id": "cf08c791-554d-4abb-8df5-9a9bc72e97e1",
   "metadata": {},
   "outputs": [],
   "source": [
    "def fibonacci_generator(n):\n",
    "    a, b = 0, 1\n",
    "    while a <= n:  \n",
    "        yield a\n",
    "        a, b = b, a + b\n",
    "\n",
    "n = 10\n",
    "for fib in fibonacci_generator(n):\n",
    "    print(fib)"
   ]
  },
  {
   "cell_type": "raw",
   "id": "5572a600-cdbf-489e-8a07-05c5ce1591ba",
   "metadata": {},
   "source": [
    "Task 3: Exception Handling and Function Decorator"
   ]
  },
  {
   "cell_type": "raw",
   "id": "9191fd57-ffb6-4df2-ba52-58cfe85b47c8",
   "metadata": {},
   "source": [
    "Part A: Chained Exceptions\n",
    "    Write a function that:\n",
    "        • Takes a list of numbers and tries to divide each number by a divisor.\n",
    "        • If the divisor is zero, raise a custom exception.\n",
    "        • If any other error occurs (e.g., non-numeric input), raise an appropriate exception and \n",
    "          chain it to the custom exception to provide context."
   ]
  },
  {
   "cell_type": "code",
   "execution_count": null,
   "id": "208cc762-42e3-4302-8916-bcc63fda7acb",
   "metadata": {},
   "outputs": [],
   "source": [
    "def divide_numbers(numbers, divisor):\n",
    "    results = []\n",
    "    for num in numbers:\n",
    "        try:\n",
    "            result = num / divisor   #attempt division\n",
    "            results.append(result)\n",
    "        except ZeroDivisionError:    #if divisor is zero this exception will be occured \n",
    "            raise ZeroDivisionError(\"Division by zero is not allowed.\")\n",
    "        except (TypeError, ValueError) as e:   #if divisor is non numeric like string this exception will be occured\n",
    "            raise TypeError(f\"Error processing value '{num}'\") from e\n",
    "    return results\n",
    "\n",
    "\n",
    "numbers = [10, 20, 30, 40]\n",
    "try:\n",
    "    print(divide_numbers(numbers, 0))  # taking divisor 0\n",
    "except Exception as e:\n",
    "    print(e)"
   ]
  },
  {
   "cell_type": "raw",
   "id": "bd73f299-833f-46b2-bba5-d3f96a891eb2",
   "metadata": {},
   "source": [
    "Part B: Exception Logging Decorator\n",
    "    Create a decorator that:\n",
    "        • Logs exceptions raised during the execution of a function.\n",
    "        • It should print the exception type, message, and the function where the exception \n",
    "          occurred\n",
    "          "
   ]
  },
  {
   "cell_type": "code",
   "execution_count": null,
   "id": "bdbd51c2-8860-4680-b02f-91b80b5a61dd",
   "metadata": {},
   "outputs": [],
   "source": [
    "import logging\n",
    "\n",
    "\n",
    "logging.basicConfig(level=logging.ERROR)\n",
    "\n",
    "def exception_logger(func):\n",
    "    def wrapper(*args, **kwargs):\n",
    "        try:\n",
    "            return func(*args, **kwargs)\n",
    "        except Exception as e:\n",
    "            logging.error(f\"Error in {func.__name__}: {e}\")\n",
    "            raise\n",
    "    return wrapper\n",
    "\n",
    "@exception_logger\n",
    "def divide(x, y):\n",
    "    return x / y\n",
    "\n",
    "try:\n",
    "    divide(10, 0)  # This will log the error\n",
    "except ZeroDivisionError:\n",
    "    pass"
   ]
  }
 ],
 "metadata": {
  "kernelspec": {
   "display_name": "Python 3 (ipykernel)",
   "language": "python",
   "name": "python3"
  },
  "language_info": {
   "codemirror_mode": {
    "name": "ipython",
    "version": 3
   },
   "file_extension": ".py",
   "mimetype": "text/x-python",
   "name": "python",
   "nbconvert_exporter": "python",
   "pygments_lexer": "ipython3",
   "version": "3.12.4"
  }
 },
 "nbformat": 4,
 "nbformat_minor": 5
}
