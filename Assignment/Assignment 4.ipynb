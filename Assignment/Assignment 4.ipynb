{
 "cells": [
  {
   "cell_type": "markdown",
   "id": "f26f82b4-0af4-4d49-972d-505b7c0b79cc",
   "metadata": {},
   "source": [
    "***Assignment 4: Climate Data Analysis for a Research Center***"
   ]
  },
  {
   "cell_type": "code",
   "execution_count": 1,
   "id": "47ea31c1-11b3-429b-bcb0-372e387f8465",
   "metadata": {},
   "outputs": [],
   "source": [
    "import numpy as np"
   ]
  },
  {
   "cell_type": "markdown",
   "id": "beed06bd-086f-407b-9476-13982b0c0d81",
   "metadata": {},
   "source": [
    "***Task 01:Initialize Temperature and Humidity Data***"
   ]
  },
  {
   "cell_type": "code",
   "execution_count": null,
   "id": "b64d95a0-d469-46ee-b092-7349484f540a",
   "metadata": {},
   "outputs": [],
   "source": [
    "#Temperature in Celsius (-10 to 40 degrees) 500 locations 365 days\n",
    "temperature_data = np.random.uniform(-10, 40, (500, 365))\n",
    "#Humidity  (0% to 100%)  500 locations 365 days\n",
    "humidity_data = np.random.uniform(0, 100, (500, 365))"
   ]
  },
  {
   "cell_type": "markdown",
   "id": "e9e25796-3cb4-43ae-a31e-2a865fe03a99",
   "metadata": {},
   "source": [
    "***Task 02:Check for Missing Data***"
   ]
  },
  {
   "cell_type": "code",
   "execution_count": null,
   "id": "8f0299e3-87cd-43ad-bdd9-cf9d36dcd766",
   "metadata": {},
   "outputs": [],
   "source": [
    "#5% missing data in temperature and humidity arrays\n",
    "missing_temp = np.random.choice(temperature_data.size, int(temperature_data.size * 0.05), replace=False)\n",
    "missing_hum = np.random.choice(humidity_data.size, int(humidity_data.size * 0.05), replace=False)\n",
    "\n",
    "#selected indices to NaN\n",
    "temperature_data.ravel()[missing_temp] = np.nan\n",
    "humidity_data.ravel()[missing_hum] = np.nan\n",
    "\n",
    "#Count the missing value\n",
    "missing_temp_count = np.isnan(temperature_data).sum()\n",
    "missing_hum_count = np.isnan(humidity_data).sum()\n",
    "\n",
    "print(missing_temp_count, missing_hum_count)"
   ]
  },
  {
   "cell_type": "markdown",
   "id": "4a8a8825-da5a-4a98-b945-225eaa9a951a",
   "metadata": {},
   "source": [
    "***Task 03: Convert Temperature and Calculate Discomfort Index***"
   ]
  },
  {
   "cell_type": "code",
   "execution_count": null,
   "id": "b1869fe4-7140-4657-b13a-d62626004b12",
   "metadata": {},
   "outputs": [],
   "source": [
    "#Convert temperature from Celsius to Fahrenheit\n",
    "temperature_fahrenheit = temperature_data * 9/5 + 32\n",
    "\n",
    "#Calculate discomfort index (feels like temperature)\n",
    "discomfort_index = temperature_data * (0.72 + 0.003 * humidity_data)\n",
    "\n",
    "#discomfort index at 80\n",
    "discomfort_index = np.where(discomfort_index > 80, 80, discomfort_index)\n"
   ]
  },
  {
   "cell_type": "markdown",
   "id": "db77ca35-eb33-4371-bf6e-ac6d9df616df",
   "metadata": {},
   "source": [
    "***Task 04:Analyze January Temperatures***"
   ]
  },
  {
   "cell_type": "code",
   "execution_count": null,
   "id": "45f1e954-70d5-4638-b9d0-546a9d705ec2",
   "metadata": {},
   "outputs": [],
   "source": [
    "#January temperatures first 31 days\n",
    "january_temps = temperature_data[:, :31]\n",
    "\n",
    "#Calculate average january temperature of all locations\n",
    "average_january_temp = np.nanmean(january_temps)\n",
    "\n",
    "print(average_january_temp)"
   ]
  },
  {
   "cell_type": "markdown",
   "id": "642334e1-7fc4-4929-836c-80e08f53f845",
   "metadata": {},
   "source": [
    "***Task 05: Identify Extreme Temperatures***"
   ]
  },
  {
   "cell_type": "code",
   "execution_count": null,
   "id": "0386ee99-d619-4be1-95e1-9f1ea5801c17",
   "metadata": {},
   "outputs": [],
   "source": [
    "#Replace temperatures exceeding 35°C with NaN\n",
    "temperature_data = np.where(temperature_data > 35, np.nan, temperature_data)\n",
    "\n",
    "#Count number of NaN values per location\n",
    "null_values_per_location = np.isnan(temperature_data).sum(axis=1)\n",
    "print(null_values_per_location)"
   ]
  },
  {
   "cell_type": "markdown",
   "id": "f8bf52e2-2a43-4d76-b9ec-eb2dc573bd01",
   "metadata": {},
   "source": [
    "***Task 06: Calculate Quarterly Temperature Averages***"
   ]
  },
  {
   "cell_type": "code",
   "execution_count": null,
   "id": "b085cae6-0b30-4a2c-9575-08790a29303f",
   "metadata": {},
   "outputs": [],
   "source": [
    "# Split data into approximate quarters: 90, 91, 92, and 92 days\n",
    "quarters = np.split(temperature_data, [90, 181, 273], axis=1)\n",
    "\n",
    "# Calculate the mean for each quarter\n",
    "quarterly_avg_temps = [np.nanmean(q, axis=1) for q in quarters]\n",
    "quarterly_avg_temps = np.array(quarterly_avg_temps).T  # Transpose for shape (500, 4)\n",
    "\n",
    "print(quarterly_avg_temps)\n"
   ]
  },
  {
   "cell_type": "markdown",
   "id": "c6b4450a-32ac-430f-8a48-f866a3597350",
   "metadata": {},
   "source": [
    "***Task 07: Classify Humidity Levels***"
   ]
  },
  {
   "cell_type": "code",
   "execution_count": null,
   "id": "c4bacffc-2589-42e7-b120-e11bd90d8bd6",
   "metadata": {},
   "outputs": [],
   "source": [
    "# Classify humidity levels\n",
    "dry_days = (humidity_data < 30).sum(axis=1)\n",
    "humid_days = (humidity_data > 70).sum(axis=1)\n",
    "print(dry_days, humid_days)"
   ]
  },
  {
   "cell_type": "markdown",
   "id": "20a765c0-05f1-49c7-9bcd-63684f61c2e3",
   "metadata": {},
   "source": [
    "***Task 08: Apply Daily Pressure Trend to Temperature Data***"
   ]
  },
  {
   "cell_type": "code",
   "execution_count": null,
   "id": "e1fd5ff5-80f7-4dba-a979-6b1424511980",
   "metadata": {},
   "outputs": [],
   "source": [
    "# Generate a daily pressure trend \n",
    "pressure_trend = 5 * np.sin(np.linspace(0, 2 * np.pi, 365))\n",
    "\n",
    "# Apply pressure trend to temperature data\n",
    "adjusted_temperature_data = temperature_data + pressure_trend\n",
    "\n",
    "print(adjusted_temperature_data)"
   ]
  }
 ],
 "metadata": {
  "kernelspec": {
   "display_name": "Python 3 (ipykernel)",
   "language": "python",
   "name": "python3"
  },
  "language_info": {
   "codemirror_mode": {
    "name": "ipython",
    "version": 3
   },
   "file_extension": ".py",
   "mimetype": "text/x-python",
   "name": "python",
   "nbconvert_exporter": "python",
   "pygments_lexer": "ipython3",
   "version": "3.12.4"
  }
 },
 "nbformat": 4,
 "nbformat_minor": 5
}
