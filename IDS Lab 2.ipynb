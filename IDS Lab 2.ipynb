{
 "cells": [
  {
   "cell_type": "markdown",
   "id": "14e897a0-5851-46f2-aad7-5a6483e7ef76",
   "metadata": {},
   "source": [
    "***Task 01:***\n",
    "**Scenario: You are managing game scores for a gaming application**"
   ]
  },
  {
   "cell_type": "code",
   "execution_count": 98,
   "id": "58e7595c-38d4-44a0-a72c-d506c3e49157",
   "metadata": {},
   "outputs": [],
   "source": [
    "import numpy as np"
   ]
  },
  {
   "cell_type": "code",
   "execution_count": 101,
   "id": "8d8a739b-c3e6-4d2c-b752-cc8157ef3fb8",
   "metadata": {},
   "outputs": [
    {
     "name": "stdout",
     "output_type": "stream",
     "text": [
      "Array is :\n",
      " [['Talha' '200' '5']\n",
      " ['Durrab' '350' '7']\n",
      " ['Haris' '99' '3']\n",
      " ['Sheikh' '88' '1']\n",
      " ['Ali' '350' '8']]\n"
     ]
    }
   ],
   "source": [
    "#1. Create a NumPy array to store player names, game scores, and levels reached.\n",
    "players=np.array([\n",
    "    [\"Talha\",200,5],\n",
    "    [\"Durrab\",350,7],\n",
    "    [\"Haris\",99,3],\n",
    "    [\"Sheikh\",88,1],\n",
    "    [\"Ali\",350,8],\n",
    "])\n",
    "data=print(\"Array is :\\n\",players)"
   ]
  },
  {
   "cell_type": "code",
   "execution_count": 103,
   "id": "943eeb21-8201-40f9-bcd9-290abd677fd3",
   "metadata": {},
   "outputs": [
    {
     "name": "stdout",
     "output_type": "stream",
     "text": [
      "4\n",
      "[['Talha' '200' '5']\n",
      " ['Durrab' '350' '7']\n",
      " ['Haris' '99' '3']\n",
      " ['Sheikh' '88' '1']\n",
      " ['Ali' '500' '8']]\n"
     ]
    }
   ],
   "source": [
    "#2. Update the score of the player who has reached the highest level.\n",
    "level=players[:,2].astype(int)\n",
    "max_level=np.argmax(level)\n",
    "print(max_level)\n",
    "\n",
    "players[max_level,1]=500\n",
    "print(players)"
   ]
  },
  {
   "cell_type": "code",
   "execution_count": 104,
   "id": "718ffc2d-33a5-4381-92b9-3401e55beab1",
   "metadata": {},
   "outputs": [
    {
     "name": "stdout",
     "output_type": "stream",
     "text": [
      "[['Talha' '200' '5']\n",
      " ['Durrab' '350' '7']\n",
      " ['Haris' '99' '3']\n",
      " ['Sheikh' '88' '1']\n",
      " ['Ali' '500' '8']\n",
      " ['Zalaid' '200' '4']]\n"
     ]
    }
   ],
   "source": [
    "#3. Append a new player's data (name, score, level) to the array\n",
    "new=[\"Zalaid\",200,4]\n",
    "players=np.vstack([players,new])\n",
    "print(players)"
   ]
  },
  {
   "cell_type": "code",
   "execution_count": 105,
   "id": "9c12a59f-01d6-4ba9-95ee-0bb57d0ce9c3",
   "metadata": {},
   "outputs": [
    {
     "name": "stdout",
     "output_type": "stream",
     "text": [
      "[['Talha' '200' '5']\n",
      " ['Durrab' '350' '7']\n",
      " ['Haris' '99' '3']\n",
      " ['Sheikh' '88' '1']\n",
      " ['Ali' '500' '8']\n",
      " ['Usama' '499' '9']\n",
      " ['Zalaid' '200' '4']]\n"
     ]
    }
   ],
   "source": [
    "#4. Insert a new player's score at a specific index within the array.\n",
    "index=5\n",
    "players=np.insert(players,index,[\"Usama\",499,9],axis=0)\n",
    "print(players)"
   ]
  },
  {
   "cell_type": "code",
   "execution_count": 106,
   "id": "c5ca4d40-92b1-4dfa-b03f-1eb0e57ceb5a",
   "metadata": {},
   "outputs": [
    {
     "name": "stdout",
     "output_type": "stream",
     "text": [
      "3\n",
      "[['Talha' '200' '5']\n",
      " ['Durrab' '350' '7']\n",
      " ['Haris' '99' '3']\n",
      " ['Ali' '500' '8']\n",
      " ['Usama' '499' '9']\n",
      " ['Zalaid' '200' '4']]\n"
     ]
    }
   ],
   "source": [
    "#5. Delete the player with the lowest score from the dataset\n",
    "score=players[:,1].astype(int)\n",
    "mini=np.argmin(score)\n",
    "print(mini)\n",
    "players=np.delete(players,mini,axis=0)\n",
    "print(players)"
   ]
  },
  {
   "cell_type": "markdown",
   "id": "ab3f270b-8a65-4097-8bd4-1941f466413f",
   "metadata": {},
   "source": [
    "***Task 02***\n",
    "**Scenario: You are analyzing website traffic data.**"
   ]
  },
  {
   "cell_type": "code",
   "execution_count": 107,
   "id": "020390f1-f08b-4cf4-aab0-f5ccbf8bf2d7",
   "metadata": {},
   "outputs": [
    {
     "name": "stdout",
     "output_type": "stream",
     "text": [
      "[120 150  90 180 210]\n",
      "[ 80 130  75 200 110]\n"
     ]
    }
   ],
   "source": [
    "#1. Create two NumPy arrays: one for daily visitors and another for pages viewed.\n",
    "visitors = np.array([120, 150, 90, 180, 210])\n",
    "pages_viewed = np.array([80, 130, 75, 200, 110])\n",
    "print(visitors)\n",
    "print(pages_viewed)"
   ]
  },
  {
   "cell_type": "code",
   "execution_count": 108,
   "id": "4b6d3893-0cc6-40d5-a527-031ba717933f",
   "metadata": {},
   "outputs": [
    {
     "name": "stdout",
     "output_type": "stream",
     "text": [
      "[120 150  90 180 210]\n",
      "[ 80 130  75 200 110]\n"
     ]
    }
   ],
   "source": [
    "#2. Create a shallow copy of the visitors array and a deep copy of the pages viewed array.\n",
    "visitors_shallow = visitors.view()\n",
    "pages_viewed_deep = pages_viewed.copy()\n",
    "print(visitors_shallow)\n",
    "print(pages_viewed_deep)"
   ]
  },
  {
   "cell_type": "code",
   "execution_count": 109,
   "id": "6b6d2f8c-c9f8-4c2e-bcd0-8fe17ebb1e8e",
   "metadata": {},
   "outputs": [
    {
     "name": "stdout",
     "output_type": "stream",
     "text": [
      "[120 150  90 180 210  80 130  75 200 110]\n"
     ]
    }
   ],
   "source": [
    "#3. Concatenate both arrays to form a new array.\n",
    "combined_data = np.concatenate((visitors, pages_viewed))\n",
    "print(combined_data)"
   ]
  },
  {
   "cell_type": "code",
   "execution_count": 110,
   "id": "1e128fd7-3a27-4ee3-9c24-52daa51d4a84",
   "metadata": {},
   "outputs": [
    {
     "name": "stdout",
     "output_type": "stream",
     "text": [
      "[90 80 75]\n",
      "[120 150 180 210 130 200 110]\n"
     ]
    }
   ],
   "source": [
    "#4. Split the concatenated array into two parts based on a threshold (e.g., more than 100 pages viewed).\n",
    "below = combined_data[combined_data <= 100]\n",
    "above = combined_data[combined_data > 100]\n",
    "print(below)\n",
    "print(above)"
   ]
  },
  {
   "cell_type": "code",
   "execution_count": 113,
   "id": "68cfcacd-cfac-4cb3-bf0b-b8ce10cfde76",
   "metadata": {},
   "outputs": [
    {
     "name": "stdout",
     "output_type": "stream",
     "text": [
      "[300 150  90 180 210]\n",
      "[ 80 250  75 200 110]\n",
      "[300 150  90 180 210]\n",
      "[ 80 130  75 200 110]\n"
     ]
    }
   ],
   "source": [
    "#5. Modify the original arrays and observe the changes in the copies.\n",
    "visitors[0] = 300\n",
    "pages_viewed[1] = 250\n",
    "print(visitors)\n",
    "print(pages_viewed)\n",
    "print(visitors_shallow)\n",
    "print(pages_viewed_deep)"
   ]
  }
 ],
 "metadata": {
  "kernelspec": {
   "display_name": "Python 3 (ipykernel)",
   "language": "python",
   "name": "python3"
  },
  "language_info": {
   "codemirror_mode": {
    "name": "ipython",
    "version": 3
   },
   "file_extension": ".py",
   "mimetype": "text/x-python",
   "name": "python",
   "nbconvert_exporter": "python",
   "pygments_lexer": "ipython3",
   "version": "3.12.4"
  }
 },
 "nbformat": 4,
 "nbformat_minor": 5
}
