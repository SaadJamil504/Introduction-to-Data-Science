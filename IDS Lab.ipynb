{
 "cells": [
  {
   "cell_type": "raw",
   "id": "29d238ce-c8a1-404e-b18c-661540e3e108",
   "metadata": {},
   "source": [
    "Task 01"
   ]
  },
  {
   "cell_type": "code",
   "execution_count": null,
   "id": "f725dcce-dcfa-48d8-a2da-eca19923db39",
   "metadata": {},
   "outputs": [],
   "source": [
    "import numpy as np"
   ]
  },
  {
   "cell_type": "code",
   "execution_count": null,
   "id": "fe451d8e-e70d-44e9-8628-98ed430c11a5",
   "metadata": {},
   "outputs": [],
   "source": [
    "#Initialize a array of size 20 \n",
    "arr = np.arange(1,21)\n",
    "print(arr)\n",
    "#Reshaping to a 4*5 matrix\n",
    "arr_2d = arr.reshape(4,5)\n",
    "print(arr_2d)\n",
    "#Replace all elements in the last column with zeros\n",
    "arr_2d[:,-1]=0\n",
    "print(arr_2d)\n",
    "#Flatten the array again to 1D array\n",
    "arr1=arr_2d.flatten()\n",
    "print(arr1)"
   ]
  },
  {
   "cell_type": "raw",
   "id": "827e92d9-7e05-41dc-b55b-cedb4e7e76b8",
   "metadata": {},
   "source": [
    "Task 02"
   ]
  },
  {
   "cell_type": "code",
   "execution_count": null,
   "id": "0252d544-a2ce-4494-aece-7a5a2abe6930",
   "metadata": {},
   "outputs": [],
   "source": [
    "#Initialize a 2D array of size 5*5\n",
    "array=np.random.randint(10,50,(5,5))\n",
    "print(array)\n",
    "#Calculating the mean , sum , max , min row wise\n",
    "row_mean = array.mean(axis=1)\n",
    "row_sum = array.sum(axis=1)\n",
    "row_max = array.max(axis=1)\n",
    "row_min = array.min(axis=1)\n",
    "print(\"Row Mean is:\",row_mean)\n",
    "print(\"Row sum is:\",row_sum)\n",
    "print(\"Maximum from each row are:\",row_max)\n",
    "print(\"Minimum from each row are:\",row_min)\n",
    "#Calculating the mean , sum , max , min column wise\n",
    "col_mean = array.mean(axis=0)\n",
    "col_sum = array.sum(axis=0)\n",
    "col_max = array.max(axis=0)\n",
    "col_min = array.min(axis=0)\n",
    "print(\"Column Mean is:\",col_mean)\n",
    "print(\"Column sum is:\",col_sum)\n",
    "print(\"Maximum from each Column are:\",col_max)\n",
    "print(\"Minimum from each Column are:\",col_min)"
   ]
  },
  {
   "cell_type": "raw",
   "id": "f31c9f33-7886-40b4-8200-dc863094f575",
   "metadata": {},
   "source": [
    "Task 03"
   ]
  },
  {
   "cell_type": "code",
   "execution_count": null,
   "id": "5ffed040-bf72-4b4d-a876-dc0820426cb5",
   "metadata": {},
   "outputs": [],
   "source": [
    "#Initialize a 2D Identity matrix \n",
    "iarr=np.identity(4)\n",
    "print(iarr)\n",
    "#Change diagonal values to 5\n",
    "iarr[np.diag_indices_from(iarr)]+=4\n",
    "print(iarr)\n",
    "#Change last column to 1\n",
    "iarr[1:]=1\n",
    "print(iarr)"
   ]
  },
  {
   "cell_type": "raw",
   "id": "259835bd-2769-4158-b1c9-f17a75dff7e6",
   "metadata": {},
   "source": [
    "Task 04"
   ]
  },
  {
   "cell_type": "code",
   "execution_count": null,
   "id": "e20866c5-9a3f-492b-ab3f-60639e9100a6",
   "metadata": {},
   "outputs": [],
   "source": [
    "#Initialize a array of  with random numbers 0 to 21 of size 15\n",
    "arr4 = np.random.randint(0, 21, size=15)\n",
    "print(\"Array:\", arr4)\n",
    "# number of occurrences of each unique value in the array,\n",
    "unique, count = np.unique(arr4, return_counts=True)\n",
    "print(\"Unique values and their counts:\", dict(zip(unique, count)))\n",
    "#list the indices of elements greater than 10\n",
    "arr7 = np.where(arr4 > 10)[0]\n",
    "print(\"Indices of elements greater than 10:\", arr7)"
   ]
  },
  {
   "cell_type": "raw",
   "id": "e06907b1-85da-4ebf-9b30-046384261e48",
   "metadata": {},
   "source": [
    "Task 05"
   ]
  },
  {
   "cell_type": "code",
   "execution_count": null,
   "id": "9ddf3f27-e1b3-457a-a330-25277b45121e",
   "metadata": {},
   "outputs": [],
   "source": [
    "#Initialize a 2D array of 3*4 with random numbers 0 to 1 \n",
    "arr5=np.random.rand(3,4)\n",
    "print(arr5)\n",
    "#Round up all numbers upto to decimal places\n",
    "arr5=np.round(arr5,2)\n",
    "print(arr5)\n",
    "#Change all numbers of 2nd column to 0.5\n",
    "arr5[2:]=0.5\n",
    "print(arr5)"
   ]
  }
 ],
 "metadata": {
  "kernelspec": {
   "display_name": "Python 3 (ipykernel)",
   "language": "python",
   "name": "python3"
  },
  "language_info": {
   "codemirror_mode": {
    "name": "ipython",
    "version": 3
   },
   "file_extension": ".py",
   "mimetype": "text/x-python",
   "name": "python",
   "nbconvert_exporter": "python",
   "pygments_lexer": "ipython3",
   "version": "3.12.4"
  }
 },
 "nbformat": 4,
 "nbformat_minor": 5
}
